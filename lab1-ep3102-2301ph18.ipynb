{
 "cells": [
  {
   "cell_type": "code",
   "execution_count": 1,
   "id": "01d7cede",
   "metadata": {
    "_cell_guid": "b1076dfc-b9ad-4769-8c92-a6c4dae69d19",
    "_uuid": "8f2839f25d086af736a60e9eeb907d3b93b6e0e5",
    "execution": {
     "iopub.execute_input": "2025-07-30T13:12:46.024072Z",
     "iopub.status.busy": "2025-07-30T13:12:46.023775Z",
     "iopub.status.idle": "2025-07-30T13:12:47.760975Z",
     "shell.execute_reply": "2025-07-30T13:12:47.760050Z"
    },
    "papermill": {
     "duration": 1.7422,
     "end_time": "2025-07-30T13:12:47.762744",
     "exception": false,
     "start_time": "2025-07-30T13:12:46.020544",
     "status": "completed"
    },
    "tags": []
   },
   "outputs": [],
   "source": [
    "# This Python 3 environment comes with many helpful analytics libraries installed\n",
    "# It is defined by the kaggle/python Docker image: https://github.com/kaggle/docker-python\n",
    "# For example, here's several helpful packages to load\n",
    "\n",
    "import numpy as np # linear algebra\n",
    "import pandas as pd # data processing, CSV file I/O (e.g. pd.read_csv)\n",
    "\n",
    "# Input data files are available in the read-only \"../input/\" directory\n",
    "# For example, running this (by clicking run or pressing Shift+Enter) will list all files under the input directory\n",
    "\n",
    "import os\n",
    "for dirname, _, filenames in os.walk('/kaggle/input'):\n",
    "    for filename in filenames:\n",
    "        print(os.path.join(dirname, filename))\n",
    "\n",
    "# You can write up to 20GB to the current directory (/kaggle/working/) that gets preserved as output when you create a version using \"Save & Run All\" \n",
    "# You can also write temporary files to /kaggle/temp/, but they won't be saved outside of the current session"
   ]
  },
  {
   "cell_type": "code",
   "execution_count": 2,
   "id": "6c1cbaac",
   "metadata": {
    "execution": {
     "iopub.execute_input": "2025-07-30T13:12:47.767805Z",
     "iopub.status.busy": "2025-07-30T13:12:47.767309Z",
     "iopub.status.idle": "2025-07-30T13:12:47.772408Z",
     "shell.execute_reply": "2025-07-30T13:12:47.771459Z"
    },
    "papermill": {
     "duration": 0.009159,
     "end_time": "2025-07-30T13:12:47.773912",
     "exception": false,
     "start_time": "2025-07-30T13:12:47.764753",
     "status": "completed"
    },
    "tags": []
   },
   "outputs": [
    {
     "name": "stdout",
     "output_type": "stream",
     "text": [
      "My name is: Yashraj singh thakur\n"
     ]
    }
   ],
   "source": [
    "\n",
    "user_input=\"Yashraj singh thakur\"\n",
    "print(\"My name is:\",user_input)"
   ]
  },
  {
   "cell_type": "code",
   "execution_count": 3,
   "id": "9973a254",
   "metadata": {
    "execution": {
     "iopub.execute_input": "2025-07-30T13:12:47.778601Z",
     "iopub.status.busy": "2025-07-30T13:12:47.778059Z",
     "iopub.status.idle": "2025-07-30T13:12:47.782744Z",
     "shell.execute_reply": "2025-07-30T13:12:47.781891Z"
    },
    "papermill": {
     "duration": 0.008345,
     "end_time": "2025-07-30T13:12:47.784107",
     "exception": false,
     "start_time": "2025-07-30T13:12:47.775762",
     "status": "completed"
    },
    "tags": []
   },
   "outputs": [
    {
     "name": "stdout",
     "output_type": "stream",
     "text": [
      "I have choosen : 5\n"
     ]
    }
   ],
   "source": [
    "Input_Number=5\n",
    "print(\"I have choosen :\",Input_Number)"
   ]
  },
  {
   "cell_type": "code",
   "execution_count": null,
   "id": "ebe2675d",
   "metadata": {
    "papermill": {
     "duration": 0.001418,
     "end_time": "2025-07-30T13:12:47.787388",
     "exception": false,
     "start_time": "2025-07-30T13:12:47.785970",
     "status": "completed"
    },
    "tags": []
   },
   "outputs": [],
   "source": []
  }
 ],
 "metadata": {
  "kaggle": {
   "accelerator": "none",
   "dataSources": [],
   "dockerImageVersionId": 31089,
   "isGpuEnabled": false,
   "isInternetEnabled": false,
   "language": "python",
   "sourceType": "notebook"
  },
  "kernelspec": {
   "display_name": "Python 3",
   "language": "python",
   "name": "python3"
  },
  "language_info": {
   "codemirror_mode": {
    "name": "ipython",
    "version": 3
   },
   "file_extension": ".py",
   "mimetype": "text/x-python",
   "name": "python",
   "nbconvert_exporter": "python",
   "pygments_lexer": "ipython3",
   "version": "3.11.13"
  },
  "papermill": {
   "default_parameters": {},
   "duration": 6.856994,
   "end_time": "2025-07-30T13:12:48.308292",
   "environment_variables": {},
   "exception": null,
   "input_path": "__notebook__.ipynb",
   "output_path": "__notebook__.ipynb",
   "parameters": {},
   "start_time": "2025-07-30T13:12:41.451298",
   "version": "2.6.0"
  }
 },
 "nbformat": 4,
 "nbformat_minor": 5
}
